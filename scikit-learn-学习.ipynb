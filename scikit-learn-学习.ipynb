{
 "cells": [
  {
   "cell_type": "code",
   "execution_count": 38,
   "metadata": {},
   "outputs": [
    {
     "name": "stdout",
     "output_type": "stream",
     "text": [
      "load_boston\n",
      "load_breast_cancer\n",
      "load_diabetes\n",
      "load_digits\n",
      "load_files\n",
      "load_iris\n",
      "load_linnerud\n",
      "load_mlcomp\n",
      "load_sample_image\n",
      "load_sample_images\n",
      "load_svmlight_file\n",
      "load_svmlight_files\n",
      "load_wine\n"
     ]
    }
   ],
   "source": [
    "#!/uzr/bin/env python\n",
    "# -*- codoing:utf-8 -*-\n",
    "%matplotlib inline\n",
    "from matplotlib import pyplot as plt\n",
    "from sklearn import datasets\n",
    "\n",
    "for i in  filter(lambda x:x.startswith(\"load\"),dir(datasets)):\n",
    "    print(i)\n"
   ]
  },
  {
   "cell_type": "code",
   "execution_count": 142,
   "metadata": {},
   "outputs": [
    {
     "name": "stdout",
     "output_type": "stream",
     "text": [
      "['setosa' 'versicolor' 'virginica']\n",
      "[0 0 0 0 0 0 0 0 0 0 0 0 0 0 0 0 0 0 0 0 0 0 0 0 0 0 0 0 0 0 0 0 0 0 0 0 0\n",
      " 0 0 0 0 0 0 0 0 0 0 0 0 0 1 1 1 1 1 1 1 1 1 1 1 1 1 1 1 1 1 1 1 1 1 1 1 1\n",
      " 1 1 1 1 1 1 1 1 1 1 1 1 1 1 1 1 1 1 1 1 1 1 1 1 1 1 2 2 2 2 2 2 2 2 2 2 2\n",
      " 2 2 2 2 2 2 2 2 2 2 2 2 2 2 2 2 2 2 2 2 2 2 2 2 2 2 2 2 2 2 2 2 2 2 2 2 2\n",
      " 2 2]\n",
      "['sepal length (cm)', 'sepal width (cm)', 'petal length (cm)', 'petal width (cm)']\n",
      "[5.1 3.5 1.4 0.2]\n"
     ]
    },
    {
     "data": {
      "text/plain": [
       "array(['setosa', 'setosa', 'setosa', 'setosa', 'setosa', 'setosa',\n",
       "       'setosa', 'setosa', 'setosa', 'setosa', 'setosa', 'setosa',\n",
       "       'setosa', 'setosa', 'setosa', 'setosa', 'setosa', 'setosa',\n",
       "       'setosa', 'setosa', 'setosa', 'setosa', 'setosa', 'setosa',\n",
       "       'setosa', 'setosa', 'setosa', 'setosa', 'setosa', 'setosa',\n",
       "       'setosa', 'setosa', 'setosa', 'setosa', 'setosa', 'setosa',\n",
       "       'setosa', 'setosa', 'setosa', 'setosa', 'setosa', 'setosa',\n",
       "       'setosa', 'setosa', 'setosa', 'setosa', 'setosa', 'setosa',\n",
       "       'setosa', 'setosa', 'versicolor', 'versicolor', 'versicolor',\n",
       "       'versicolor', 'versicolor', 'versicolor', 'versicolor',\n",
       "       'versicolor', 'versicolor', 'versicolor', 'versicolor',\n",
       "       'versicolor', 'versicolor', 'versicolor', 'versicolor',\n",
       "       'versicolor', 'versicolor', 'versicolor', 'versicolor',\n",
       "       'versicolor', 'versicolor', 'versicolor', 'versicolor',\n",
       "       'versicolor', 'versicolor', 'versicolor', 'versicolor',\n",
       "       'versicolor', 'versicolor', 'versicolor', 'versicolor',\n",
       "       'versicolor', 'versicolor', 'versicolor', 'versicolor',\n",
       "       'versicolor', 'versicolor', 'versicolor', 'versicolor',\n",
       "       'versicolor', 'versicolor', 'versicolor', 'versicolor',\n",
       "       'versicolor', 'versicolor', 'versicolor', 'versicolor',\n",
       "       'versicolor', 'versicolor', 'versicolor', 'virginica', 'virginica',\n",
       "       'virginica', 'virginica', 'virginica', 'virginica', 'virginica',\n",
       "       'virginica', 'virginica', 'virginica', 'virginica', 'virginica',\n",
       "       'virginica', 'virginica', 'virginica', 'virginica', 'virginica',\n",
       "       'virginica', 'virginica', 'virginica', 'virginica', 'virginica',\n",
       "       'virginica', 'virginica', 'virginica', 'virginica', 'virginica',\n",
       "       'virginica', 'virginica', 'virginica', 'virginica', 'virginica',\n",
       "       'virginica', 'virginica', 'virginica', 'virginica', 'virginica',\n",
       "       'virginica', 'virginica', 'virginica', 'virginica', 'virginica',\n",
       "       'virginica', 'virginica', 'virginica', 'virginica', 'virginica',\n",
       "       'virginica', 'virginica', 'virginica'], dtype='<U10')"
      ]
     },
     "execution_count": 142,
     "metadata": {},
     "output_type": "execute_result"
    }
   ],
   "source": [
    "iris = datasets.load_iris()\n",
    "#['DESCR', 'data', 'feature_names', 'target', 'target_names']\n",
    "\n",
    "print(iris.target_names)\n",
    "print(iris.target)\n",
    "print(iris.feature_names)\n",
    "print(iris.data[0])\n",
    "\n",
    "iris.target_names[iris.target]\n",
    "#print(iris.DESC)"
   ]
  },
  {
   "cell_type": "code",
   "execution_count": 115,
   "metadata": {},
   "outputs": [
    {
     "name": "stdout",
     "output_type": "stream",
     "text": [
      "(1797,)\n",
      "(1797, 8, 8)\n",
      "(1797, 64)\n",
      "[[ 0.  0.  0. 12. 13.  5.  0.  0.]\n",
      " [ 0.  0.  0. 11. 16.  9.  0.  0.]\n",
      " [ 0.  0.  3. 15. 16.  6.  0.  0.]\n",
      " [ 0.  7. 15. 16. 16.  2.  0.  0.]\n",
      " [ 0.  0.  1. 16. 16.  3.  0.  0.]\n",
      " [ 0.  0.  1. 16. 16.  6.  0.  0.]\n",
      " [ 0.  0.  1. 16. 16.  6.  0.  0.]\n",
      " [ 0.  0.  0. 11. 16. 10.  0.  0.]]\n",
      "[ 0.  0.  0. 12. 13.  5.  0.  0.  0.  0.  0. 11. 16.  9.  0.  0.  0.  0.\n",
      "  3. 15. 16.  6.  0.  0.  0.  7. 15. 16. 16.  2.  0.  0.  0.  0.  1. 16.\n",
      " 16.  3.  0.  0.  0.  0.  1. 16. 16.  6.  0.  0.  0.  0.  1. 16. 16.  6.\n",
      "  0.  0.  0.  0.  0. 11. 16. 10.  0.  0.]\n"
     ]
    },
    {
     "data": {
      "image/png": "[encoded data removed]",
      "text/plain": [
       "<matplotlib.figure.Figure at 0x7f87121ee1d0>"
      ]
     },
     "metadata": {},
     "output_type": "display_data"
    }
   ],
   "source": [
    "#手写识别数据集\n",
    "digits = datasets.load_digits()\n",
    "#['DESCR', 'data', 'images', 'target', 'target_names']\n",
    "digits.data[1]\n",
    "dir(digits)\n",
    "#print(digits.DESCR)\n",
    "plt.imshow(digits.images[0])\n",
    "print(digits.target.shape)\n",
    "print(digits.images.shape)\n",
    "print(digits.data.shape)\n",
    "\n",
    "#print(digits.DESCR)\n",
    "\n",
    "\n",
    "print(digits.images[1])\n",
    "print(digits.data[1])"
   ]
  },
  {
   "cell_type": "code",
   "execution_count": 89,
   "metadata": {},
   "outputs": [
    {
     "name": "stdout",
     "output_type": "stream",
     "text": [
      "[5 4 8 8 4 9 0 8 9 8]\n",
      "[5 4 8 8 4 9 0 8 9 8]\n",
      "(1797, 8, 8)\n",
      "['DESCR', 'data', 'images', 'target', 'target_names']\n"
     ]
    }
   ],
   "source": [
    "from sklearn import svm\n",
    "from sklearn import datasets\n",
    "\n",
    "digits = datasets.load_digits()\n",
    "\n",
    "clf = svm.SVC(gamma=0.001, C=100.)\n",
    "clf.fit(digits.data[:-10], digits.target[:-10]) \n",
    "#预测结果\n",
    "print(clf.predict(digits.data[-10:]))\n",
    "#真实结果\n",
    "print(digits.target[-10:])\n"
   ]
  },
  {
   "cell_type": "code",
   "execution_count": 139,
   "metadata": {},
   "outputs": [
    {
     "ename": "TypeError",
     "evalue": "__init__() got an unexpected keyword argument 'C'",
     "output_type": "error",
     "traceback": [
      "\u001b[0;31m\u001b[0m",
      "\u001b[0;31mTypeError\u001b[0mTraceback (most recent call last)",
      "\u001b[0;32m<ipython-input-139-5f8fcf07f79a>\u001b[0m in \u001b[0;36m<module>\u001b[0;34m()\u001b[0m\n\u001b[1;32m     26\u001b[0m \u001b[0;31m#print(images[0])\u001b[0m\u001b[0;34m\u001b[0m\u001b[0;34m\u001b[0m\u001b[0m\n\u001b[1;32m     27\u001b[0m \u001b[0;31m#没一个能测试准确的！！\u001b[0m\u001b[0;34m\u001b[0m\u001b[0;34m\u001b[0m\u001b[0m\n\u001b[0;32m---> 28\u001b[0;31m \u001b[0msvcmodel\u001b[0m \u001b[0;34m=\u001b[0m \u001b[0msvm\u001b[0m\u001b[0;34m.\u001b[0m\u001b[0mNuSVC\u001b[0m\u001b[0;34m(\u001b[0m\u001b[0mgamma\u001b[0m\u001b[0;34m=\u001b[0m\u001b[0;36m0.001\u001b[0m\u001b[0;34m,\u001b[0m \u001b[0mC\u001b[0m\u001b[0;34m=\u001b[0m\u001b[0;36m100.\u001b[0m\u001b[0;34m)\u001b[0m\u001b[0;34m\u001b[0m\u001b[0m\n\u001b[0m\u001b[1;32m     29\u001b[0m \u001b[0msvcmodel\u001b[0m\u001b[0;34m.\u001b[0m\u001b[0mfit\u001b[0m\u001b[0;34m(\u001b[0m\u001b[0mimages\u001b[0m\u001b[0;34m[\u001b[0m\u001b[0;34m:\u001b[0m\u001b[0;34m-\u001b[0m\u001b[0;36m10\u001b[0m\u001b[0;34m]\u001b[0m\u001b[0;34m,\u001b[0m\u001b[0mtargets\u001b[0m\u001b[0;34m[\u001b[0m\u001b[0;34m:\u001b[0m\u001b[0;34m-\u001b[0m\u001b[0;36m10\u001b[0m\u001b[0;34m]\u001b[0m\u001b[0;34m)\u001b[0m\u001b[0;34m\u001b[0m\u001b[0m\n\u001b[1;32m     30\u001b[0m \u001b[0;34m\u001b[0m\u001b[0m\n",
      "\u001b[0;31mTypeError\u001b[0m: __init__() got an unexpected keyword argument 'C'"
     ]
    }
   ],
   "source": [
    "##SVM测试MNIST数据\n",
    "from matplotlib import pyplot as plt\n",
    "import numpy as np\n",
    "from sklearn import svm\n",
    "from PIL import Image\n",
    "#im1 = plt.imread(\"data/mnist/raw/train/0.jpg\")\n",
    "#im2 = plt.imread(\"data/mnist/raw/train/2.jpg\")\n",
    "#def readimg(path):\n",
    "#    return np.asarray(Image.open(path).convert(\"L\"))\n",
    "with open('data/mnist/rawtest.txt') as mnist:\n",
    "    targets=[]\n",
    "    images=[]\n",
    "    for line in mnist:\n",
    "        image,target = line.strip().split(\" \")\n",
    "        images.append(plt.imread(image).reshape(28*28))\n",
    "        #images.append(readimg(image))\n",
    "        targets.append(int(target))\n",
    "         \n",
    "\n",
    "images = np.array(images)\n",
    "targets = np.array(targets)\n",
    "#print(targets.shape)\n",
    "#print(images[1].)\n",
    "\n",
    "#plt.imshow(images[0].reshape(28,28))\n",
    "#print(images[0])\n",
    "#没一个能测试准确的！！\n",
    "svcmodel = svm.SVC()\n",
    "svcmodel.fit(images[:-10],targets[:-10])\n",
    " \n",
    "#预测结果\n",
    "print(clf.predict(digits.data[-10:]))\n",
    "#真实结果\n",
    "print(targets[-10:])\n"
   ]
  },
  {
   "cell_type": "code",
   "execution_count": 154,
   "metadata": {},
   "outputs": [
    {
     "name": "stdout",
     "output_type": "stream",
     "text": [
      "[5 4 8 8 4 9 0 8 9 8]\n",
      "[7 8 9 0 1 2 3 4 5 6]\n"
     ]
    },
    {
     "ename": "TypeError",
     "evalue": "score() missing 1 required positional argument: 'y'",
     "output_type": "error",
     "traceback": [
      "\u001b[0;31m\u001b[0m",
      "\u001b[0;31mTypeError\u001b[0mTraceback (most recent call last)",
      "\u001b[0;32m<ipython-input-154-c3157c71ca35>\u001b[0m in \u001b[0;36m<module>\u001b[0;34m()\u001b[0m\n\u001b[1;32m      7\u001b[0m \u001b[0mprint\u001b[0m\u001b[0;34m(\u001b[0m\u001b[0mtargets\u001b[0m\u001b[0;34m[\u001b[0m\u001b[0;34m-\u001b[0m\u001b[0;36m10\u001b[0m\u001b[0;34m:\u001b[0m\u001b[0;34m]\u001b[0m\u001b[0;34m)\u001b[0m\u001b[0;34m\u001b[0m\u001b[0m\n\u001b[1;32m      8\u001b[0m \u001b[0;34m\u001b[0m\u001b[0m\n\u001b[0;32m----> 9\u001b[0;31m \u001b[0mprint\u001b[0m\u001b[0;34m(\u001b[0m\u001b[0mmodel\u001b[0m\u001b[0;34m.\u001b[0m\u001b[0mscore\u001b[0m\u001b[0;34m(\u001b[0m\u001b[0mdigits\u001b[0m\u001b[0;34m.\u001b[0m\u001b[0mdata\u001b[0m\u001b[0;34m[\u001b[0m\u001b[0;34m-\u001b[0m\u001b[0;36m10\u001b[0m\u001b[0;34m:\u001b[0m\u001b[0;34m]\u001b[0m\u001b[0;34m)\u001b[0m\u001b[0;34m,\u001b[0m\u001b[0mtargets\u001b[0m\u001b[0;34m[\u001b[0m\u001b[0;34m-\u001b[0m\u001b[0;36m10\u001b[0m\u001b[0;34m:\u001b[0m\u001b[0;34m]\u001b[0m\u001b[0;34m)\u001b[0m\u001b[0;34m\u001b[0m\u001b[0m\n\u001b[0m",
      "\u001b[0;31mTypeError\u001b[0m: score() missing 1 required positional argument: 'y'"
     ]
    }
   ],
   "source": [
    "svcmodel = svm.NuSVC()\n",
    "model = svcmodel.fit(images[:-10],targets[:-10])\n",
    " \n",
    "#预测结果\n",
    "print(clf.predict(digits.data[-10:]))\n",
    "#真实结果\n",
    "print(targets[-10:])\n",
    "\n",
    "print(model.score(digits.data[-10:]),targets[-10:])"
   ]
  },
  {
   "cell_type": "code",
   "execution_count": 145,
   "metadata": {},
   "outputs": [
    {
     "name": "stdout",
     "output_type": "stream",
     "text": [
      "(28, 28)\n",
      "[  0   0   1   1   3   5   3   0   0   0   0   1   1   0   0   1   0   0\n",
      "   4   8   0  17   0   0   0   0   0   0   0   2   2   0   0   0   0   0\n",
      "   0   0   0   1   1   1   1   3   0   0   1   0   0   0   9   5   0   0\n",
      "   0   0   1   2   3   0   0   0   0   2   6   5   3   1   0   0   0   0\n",
      "   7   2   6  10  17   0   1   0   0   0   0   0   3   0   0   2   2   0\n",
      "   1   4   1   3   2   0   0   2   3   1   0   0   0   0   0   0   0  12\n",
      "   0   0   0   0   5   0   0   2   5   1   0   0   0   2   2   0   0   1\n",
      "   0   0   5   0  18   0  16   4   0  11   0   0   0   0   6   0   0   1\n",
      "   2   0   0   0   0   0   5   6  12  22  24  19 113 158 172  25 151 255\n",
      " 255 120   0   0   0   0   3   0   0   2   0   0   1  15  28  56  92 131\n",
      " 177 223 251 255 255 250 211 176 255 245 187  62   0   0   0   0   0   0\n",
      "   1   4   0   0  12  37 235 248 255 254 255 255 255 249 250 251 105  84\n",
      "  75  52  46   0   0   0   0   0   0   0   0   0   0   2   5   8 214 255\n",
      " 251 238 255 245 210 180 249 247   5   1   0   7   0   4   0   0   0   0\n",
      "   0   0   0   0   0   2   4   6  83 149 104 255 255 200   4   0  41 140\n",
      "   3   0   7  10   0  11   0   0   0   0   1   0   0   0   0   1   2   4\n",
      "   9  19   0 157 236  94   5   0   0  26   0   2   0   5   0   0   0   0\n",
      "   0   0   2   1   0   0   0   0   0   1   0   0  10 139 255 182  22   0\n",
      "  12   0   1   9   0   0  12   0   0   0   0   0   1   1   0   0   0   0\n",
      "   0   0   8   0  10   0 185 255  54   0   0   0  20   1   3   0   0   5\n",
      "   0   0   0   0   0   0   0   0   0   0   0   0   0   5   0  11  52 246\n",
      " 225 167 108  12   0   0  12   0   0   4   0   0   0   0   0   0   0   0\n",
      "   0   0   0   0   3   5  10   0   0  61 255 248 255 108  25   1   0   0\n",
      "   2   0   0   0   0   0   0   0   0   0   0   0   0   0   0   3   2   0\n",
      "   8   9  45 181 255 246 150  23   0   3   0   6   0   0   0   0   6   2\n",
      "   0   3   0   0   4   0   0   4   4   0   0   0   2  11  92 255 255 177\n",
      "   4   0   5   0   0   0   0   0   0   0   0   6   0   0   0   8   9   0\n",
      "   0  11   7   3   8   4   0 255 254 230  73   1   0  13   0   0   0   0\n",
      "   6  10   4   0   0  15  10   0   4   8   0   0   2   0  41 131 191 239\n",
      " 252 224   0   5  11   0   0   0   0   0   0   0   4   5   3   0   0   8\n",
      "   0   0  12   5  29 140 237 243 253 247 255 182   0   0   0  18   0   0\n",
      "   0   0   0   0   6   0   5  14   0   1  12   4  16 108 225 255 245 255\n",
      " 255 209  69   9   4   0   0   0   0   0   0   0  11   5   7   0   0   1\n",
      "   0  17   3  84 198 253 253 255 245 190  72  15   0   0   0   6  17   0\n",
      "   0   0   0   0   6   0   0  12  12   0  25 158 231 243 247 255 255 193\n",
      "  83  16   0   0  22   4   6   6   0   4   0   0   0   0   0   5   4   0\n",
      "  62 177 214 255 248 252 255 233 130  24   0   0   0   7   0   8   0   0\n",
      "  15   0   0   0   0   0   2   0   0  20 125 240 255 246 198 145 118  22\n",
      "  11   0   0   3   0   0   0   0   0   0   0   0   0   0   0   0   3  11\n",
      "   7   0   0   9   6   0  13   0  20   0   4   0   1   0   0   0   0   0\n",
      "   0   0   0   0   0   0   0   0   0   0   0   4   2   0   0   6   0   0\n",
      "   2   0   1   5   0   0   0   0   0   0   0   0   0   0   0   0   0   0\n",
      "  17   0   0   0   0   0   0   0  13  12   2   3   0   4   0   5   0   0\n",
      "   0   0   0   0   0   0   0   0   0   0]\n"
     ]
    },
    {
     "data": {
      "text/plain": [
       "<matplotlib.image.AxesImage at 0x7f871204a048>"
      ]
     },
     "execution_count": 145,
     "metadata": {},
     "output_type": "execute_result"
    },
    {
     "data": {
      "image/png": "[encoded data removed]",
      "text/plain": [
       "<matplotlib.figure.Figure at 0x7f8716ad6f60>"
      ]
     },
     "metadata": {},
     "output_type": "display_data"
    }
   ],
   "source": [
    "from matplotlib import pyplot as plt\n",
    "import numpy as np\n",
    "from sklearn import svm\n",
    "from PIL import Image\n",
    "im1 = plt.imread(\"data/mnist/raw/train/0.jpg\")\n",
    "print(im1.shape)\n",
    "print(np.reshape(im1,(28*28)))\n",
    "plt.imshow(im1.reshape(28,28))"
   ]
  },
  {
   "cell_type": "code",
   "execution_count": 147,
   "metadata": {},
   "outputs": [
    {
     "name": "stdout",
     "output_type": "stream",
     "text": [
      "[[1 0 0]\n",
      " [1 0 0]\n",
      " [0 1 0]\n",
      " [0 1 0]\n",
      " [0 0 1]]\n"
     ]
    }
   ],
   "source": [
    "from sklearn.preprocessing import LabelBinarizer\n",
    "y = [0, 0, 1, 1, 2]\n",
    "y = LabelBinarizer().fit_transform(y)\n",
    "print(y)"
   ]
  },
  {
   "cell_type": "code",
   "execution_count": 191,
   "metadata": {},
   "outputs": [
    {
     "name": "stdout",
     "output_type": "stream",
     "text": [
      "[  1.           6.21052632  11.42105263  16.63157895  21.84210526\n",
      "  27.05263158  32.26315789  37.47368421  42.68421053  47.89473684\n",
      "  53.10526316  58.31578947  63.52631579  68.73684211  73.94736842\n",
      "  79.15789474  84.36842105  89.57894737  94.78947368 100.        ]\n",
      "----------\n",
      "[[  1.           6.21052632  11.42105263  16.63157895  21.84210526\n",
      "   27.05263158  32.26315789  37.47368421  42.68421053  47.89473684]\n",
      " [ 53.10526316  58.31578947  63.52631579  68.73684211  73.94736842\n",
      "   79.15789474  84.36842105  89.57894737  94.78947368 100.        ]]\n"
     ]
    }
   ],
   "source": [
    "X = np.linspace(1,100,20)\n",
    "print(X)\n",
    "Y = X.reshape((5,4))\n",
    "print(\"-\"*10)\n",
    "print(Y.reshape(-1,10))"
   ]
  },
  {
   "cell_type": "code",
   "execution_count": 179,
   "metadata": {},
   "outputs": [
    {
     "name": "stdout",
     "output_type": "stream",
     "text": [
      "Train: [2 3 4 5] | test: [0 1]\n",
      "Train: [0 1 4 5] | test: [2 3]\n",
      "Train: [0 1 2 3] | test: [4 5]\n"
     ]
    }
   ],
   "source": [
    "from sklearn.model_selection import KFold, cross_val_score\n",
    "X = [\"a\", \"a\", \"b\", \"c\", \"c\", \"c\"]\n",
    "k_fold = KFold(n_splits=3)\n",
    "for train_indices, test_indices in k_fold.split(X):\n",
    "    print('Train: %s | test: %s' % (train_indices, test_indices))"
   ]
  },
  {
   "cell_type": "code",
   "execution_count": 192,
   "metadata": {},
   "outputs": [],
   "source": [
    "from sklearn.datasets import fetch_20newsgroups\n",
    "twenty_train = fetch_20newsgroups(subset='train',categories=categories, shuffle=True, random_state=42)\n"
   ]
  },
  {
   "cell_type": "code",
   "execution_count": 194,
   "metadata": {},
   "outputs": [
    {
     "name": "stdout",
     "output_type": "stream",
     "text": [
      "Help on function fetch_20newsgroups in module sklearn.datasets.twenty_newsgroups:\n",
      "\n",
      "fetch_20newsgroups(data_home=None, subset='train', categories=None, shuffle=True, random_state=42, remove=(), download_if_missing=True)\n",
      "    Load the filenames and data from the 20 newsgroups dataset.\n",
      "    \n",
      "    Read more in the :ref:`User Guide <20newsgroups>`.\n",
      "    \n",
      "    Parameters\n",
      "    ----------\n",
      "    data_home : optional, default: None\n",
      "        Specify a download and cache folder for the datasets. If None,\n",
      "        all scikit-learn data is stored in '~/scikit_learn_data' subfolders.\n",
      "    \n",
      "    subset : 'train' or 'test', 'all', optional\n",
      "        Select the dataset to load: 'train' for the training set, 'test'\n",
      "        for the test set, 'all' for both, with shuffled ordering.\n",
      "    \n",
      "    categories : None or collection of string or unicode\n",
      "        If None (default), load all the categories.\n",
      "        If not None, list of category names to load (other categories\n",
      "        ignored).\n",
      "    \n",
      "    shuffle : bool, optional\n",
      "        Whether or not to shuffle the data: might be important for models that\n",
      "        make the assumption that the samples are independent and identically\n",
      "        distributed (i.i.d.), such as stochastic gradient descent.\n",
      "    \n",
      "    random_state : numpy random number generator or seed integer\n",
      "        Used to shuffle the dataset.\n",
      "    \n",
      "    remove : tuple\n",
      "        May contain any subset of ('headers', 'footers', 'quotes'). Each of\n",
      "        these are kinds of text that will be detected and removed from the\n",
      "        newsgroup posts, preventing classifiers from overfitting on\n",
      "        metadata.\n",
      "    \n",
      "        'headers' removes newsgroup headers, 'footers' removes blocks at the\n",
      "        ends of posts that look like signatures, and 'quotes' removes lines\n",
      "        that appear to be quoting another post.\n",
      "    \n",
      "        'headers' follows an exact standard; the other filters are not always\n",
      "        correct.\n",
      "    \n",
      "    download_if_missing : optional, True by default\n",
      "        If False, raise an IOError if the data is not locally available\n",
      "        instead of trying to download the data from the source site.\n",
      "\n"
     ]
    }
   ],
   "source": [
    "help(fetch_20newsgroups)"
   ]
  },
  {
   "cell_type": "code",
   "execution_count": null,
   "metadata": {},
   "outputs": [],
   "source": []
  }
 ],
 "metadata": {
  "kernelspec": {
   "display_name": "Python 3",
   "language": "python",
   "name": "python3"
  },
  "language_info": {
   "codemirror_mode": {
    "name": "ipython",
    "version": 3
   },
   "file_extension": ".py",
   "mimetype": "text/x-python",
   "name": "python",
   "nbconvert_exporter": "python",
   "pygments_lexer": "ipython3",
   "version": "3.6.3"
  }
 },
 "nbformat": 4,
 "nbformat_minor": 2
}
