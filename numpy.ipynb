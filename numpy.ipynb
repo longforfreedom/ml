{
 "cells": [
  {
   "cell_type": "markdown",
   "metadata": {},
   "source": [
    "\n",
    "numpy　提供ndarray(多维数组)和matrix两种数据结构以及在这两种数据结构上的一系统操作"
   ]
  },
  {
   "cell_type": "code",
   "execution_count": null,
   "metadata": {},
   "outputs": [],
   "source": []
  },
  {
   "cell_type": "code",
   "execution_count": 7,
   "metadata": {},
   "outputs": [],
   "source": [
    "import numpy as np\n"
   ]
  },
  {
   "cell_type": "markdown",
   "metadata": {},
   "source": [
    "## array or matrix ?\n",
    "Use arrays.\n",
    "\n",
    "1. They are the standard vector/matrix/tensor type of numpy. Many numpy functions return arrays, not matrices.\n",
    "2. There is a clear distinction between element-wise operations and linear algebra operations.\n",
    "3. You can have standard vectors or row/column vectors if you like.\n",
    "\n",
    "The only disadvantage of using the array type is that you will have to use dot instead of * to multiply (reduce) two tensors (scalar product, matrix vector multiplication etc.).\n",
    "\n",
    "https://docs.scipy.org/doc/numpy-dev/user/numpy-for-matlab-users.html"
   ]
  },
  {
   "cell_type": "markdown",
   "metadata": {},
   "source": [
    "##  ndarray"
   ]
  },
  {
   "cell_type": "code",
   "execution_count": null,
   "metadata": {
    "collapsed": true
   },
   "outputs": [],
   "source": [
    "# 5x5\n",
    "np.zeros((5,5))\n",
    "#5x1\n",
    "np.ones((5,1))\n",
    "\n",
    "#np\n",
    "np.zeros(5)\n",
    "\n",
    "# 随机5x5\n",
    "ar = np.random.random((5,5))\n",
    "\n",
    "#从python的list中构建\n",
    "np.array([i for i in range(10)])\n",
    "\n",
    "#起点，终点,个数\n",
    "np.linspace(1,10,20)\n",
    "\n",
    "#20新增一个维度\n",
    "np.linspace(1,10,20)[:, np.newaxis]\n",
    "\n",
    "#起点，终点,步长\n",
    "a2 = np.arange(1,10,1)\n",
    "\n",
    "#logspace函数和linspace类似，不过它创建等比数列\n",
    "#不过它创建等比数列，下面的例子产生1(10^0)到100(10^2)、有20个元素的等比数列:\n",
    "np.logspace(0,2,3)\n",
    "a2\n",
    "a3 = np.arange(0, 60, 10).reshape(-1, 1)\n",
    "a4 = np.arange(0, 6)\n",
    "a3+a4\n"
   ]
  },
  {
   "cell_type": "code",
   "execution_count": null,
   "metadata": {
    "collapsed": true
   },
   "outputs": [],
   "source": [
    "b1 = np.arange(0,100).reshape((b1,b1))"
   ]
  },
  {
   "cell_type": "code",
   "execution_count": null,
   "metadata": {
    "collapsed": true
   },
   "outputs": [],
   "source": [
    "print b1"
   ]
  },
  {
   "cell_type": "markdown",
   "metadata": {},
   "source": [
    " "
   ]
  },
  {
   "cell_type": "code",
   "execution_count": null,
   "metadata": {
    "collapsed": true
   },
   "outputs": [],
   "source": []
  },
  {
   "cell_type": "markdown",
   "metadata": {},
   "source": [
    "## matrix\n",
    "matrix类创建的是矩阵对象，它们的加减乘除运算缺省采用矩阵方式计算"
   ]
  },
  {
   "cell_type": "code",
   "execution_count": null,
   "metadata": {
    "collapsed": true
   },
   "outputs": [],
   "source": [
    "m1 = np.matrix(np.random.random((10,10)))\n",
    "m1**-1 \n",
    "#np.linalg.inv也是逆矩阵，为什么搞两个\n",
    "np.linalg.inv(m1)"
   ]
  },
  {
   "cell_type": "markdown",
   "metadata": {
    "collapsed": true
   },
   "source": [
    "## Matrix && narray "
   ]
  },
  {
   "cell_type": "code",
   "execution_count": null,
   "metadata": {
    "collapsed": true
   },
   "outputs": [],
   "source": [
    "## 矩阵乘法\n",
    "#array\n",
    "(X.T).dot(X)\n",
    "\n",
    "# matrix\n",
    "np.matrix(X).T * np.matrix(X)\n",
    "###  逆矩阵\n",
    "#array逆矩阵\n",
    "np.linalg.inv((X.T).dot(X))\n",
    "#matrix逆矩阵\n",
    "np.matrix((X.T).dot(X))**-1"
   ]
  },
  {
   "cell_type": "code",
   "execution_count": 8,
   "metadata": {},
   "outputs": [
    {
     "ename": "AttributeError",
     "evalue": "module 'numpy' has no attribute 'array'",
     "output_type": "error",
     "traceback": [
      "\u001b[0;31m\u001b[0m",
      "\u001b[0;31mAttributeError\u001b[0mTraceback (most recent call last)",
      "\u001b[0;32m<ipython-input-8-50d5c6981d7f>\u001b[0m in \u001b[0;36m<module>\u001b[0;34m()\u001b[0m\n\u001b[1;32m      6\u001b[0m \u001b[0mss\u001b[0m\u001b[0;34m=\u001b[0m\u001b[0;34m\"1 2 3 4 -8 -10\"\u001b[0m\u001b[0;34m\u001b[0m\u001b[0m\n\u001b[1;32m      7\u001b[0m \u001b[0marr\u001b[0m \u001b[0;34m=\u001b[0m \u001b[0mss\u001b[0m\u001b[0;34m.\u001b[0m\u001b[0mstrip\u001b[0m\u001b[0;34m(\u001b[0m\u001b[0;34m)\u001b[0m\u001b[0;34m.\u001b[0m\u001b[0msplit\u001b[0m\u001b[0;34m(\u001b[0m\u001b[0;34m' '\u001b[0m\u001b[0;34m)\u001b[0m\u001b[0;34m\u001b[0m\u001b[0m\n\u001b[0;32m----> 8\u001b[0;31m \u001b[0mresult\u001b[0m \u001b[0;34m=\u001b[0m \u001b[0marrays\u001b[0m\u001b[0;34m(\u001b[0m\u001b[0marr\u001b[0m\u001b[0;34m)\u001b[0m\u001b[0;34m\u001b[0m\u001b[0m\n\u001b[0m\u001b[1;32m      9\u001b[0m \u001b[0mprint\u001b[0m\u001b[0;34m(\u001b[0m\u001b[0mresult\u001b[0m\u001b[0;34m)\u001b[0m\u001b[0;34m\u001b[0m\u001b[0m\n\u001b[1;32m     10\u001b[0m \u001b[0;34m\u001b[0m\u001b[0m\n",
      "\u001b[0;32m<ipython-input-8-50d5c6981d7f>\u001b[0m in \u001b[0;36marrays\u001b[0;34m(arr)\u001b[0m\n\u001b[1;32m      3\u001b[0m     \u001b[0;31m# complete this function\u001b[0m\u001b[0;34m\u001b[0m\u001b[0;34m\u001b[0m\u001b[0m\n\u001b[1;32m      4\u001b[0m     \u001b[0;31m# use numpy.array\u001b[0m\u001b[0;34m\u001b[0m\u001b[0;34m\u001b[0m\u001b[0m\n\u001b[0;32m----> 5\u001b[0;31m     \u001b[0;32mreturn\u001b[0m \u001b[0mnp\u001b[0m\u001b[0;34m.\u001b[0m\u001b[0marray\u001b[0m\u001b[0;34m(\u001b[0m\u001b[0marr\u001b[0m\u001b[0;34m[\u001b[0m\u001b[0;34m:\u001b[0m\u001b[0;34m:\u001b[0m\u001b[0;34m-\u001b[0m\u001b[0;36m1\u001b[0m\u001b[0;34m]\u001b[0m\u001b[0;34m,\u001b[0m\u001b[0mfloat\u001b[0m\u001b[0;34m)\u001b[0m\u001b[0;34m\u001b[0m\u001b[0m\n\u001b[0m\u001b[1;32m      6\u001b[0m \u001b[0mss\u001b[0m\u001b[0;34m=\u001b[0m\u001b[0;34m\"1 2 3 4 -8 -10\"\u001b[0m\u001b[0;34m\u001b[0m\u001b[0m\n\u001b[1;32m      7\u001b[0m \u001b[0marr\u001b[0m \u001b[0;34m=\u001b[0m \u001b[0mss\u001b[0m\u001b[0;34m.\u001b[0m\u001b[0mstrip\u001b[0m\u001b[0;34m(\u001b[0m\u001b[0;34m)\u001b[0m\u001b[0;34m.\u001b[0m\u001b[0msplit\u001b[0m\u001b[0;34m(\u001b[0m\u001b[0;34m' '\u001b[0m\u001b[0;34m)\u001b[0m\u001b[0;34m\u001b[0m\u001b[0m\n",
      "\u001b[0;31mAttributeError\u001b[0m: module 'numpy' has no attribute 'array'"
     ]
    }
   ],
   "source": [
    "import numpy\n",
    "def arrays(arr):\n",
    "    # complete this function\n",
    "    # use numpy.array \n",
    "    return np.array(arr[::-1],float)\n",
    "ss=\"1 2 3 4 -8 -10\"    \n",
    "arr = ss.strip().split(' ')\n",
    "result = arrays(arr)\n",
    "print(result)\n",
    "\n",
    "\n"
   ]
  },
  {
   "cell_type": "code",
   "execution_count": 1,
   "metadata": {},
   "outputs": [
    {
     "name": "stdout",
     "output_type": "stream",
     "text": [
      "2.0\n"
     ]
    }
   ],
   "source": [
    "import numpy\n",
    "\n",
    "a = numpy.array([1,2,3,4,5],float)\n",
    "print(a[1])"
   ]
  },
  {
   "cell_type": "code",
   "execution_count": 4,
   "metadata": {},
   "outputs": [
    {
     "name": "stdout",
     "output_type": "stream",
     "text": [
      "2 2\n",
      "2 3\n",
      "4 5\n",
      "[[2 4]\n",
      " [3 5]]\n",
      "[2 3 4 5]\n"
     ]
    }
   ],
   "source": [
    "import numpy\n",
    "if __name__ == '__main__':\n",
    "    nm = input()\n",
    "    n,m=[int(i) for i in nm.strip().split(\" \")]\n",
    "    arr=[]\n",
    "    for r in range(0,n):\n",
    "        nm = input()\n",
    "        row = [int(i) for i in nm.strip().split(\" \")]\n",
    "        arr.append(row) \n",
    "    \n",
    "    na = numpy.array(arr)\n",
    "    print(na.transpose())\n",
    "    print(na.flatten())"
   ]
  },
  {
   "cell_type": "code",
   "execution_count": 5,
   "metadata": {},
   "outputs": [
    {
     "name": "stdout",
     "output_type": "stream",
     "text": [
      "2 3 2\n"
     ]
    },
    {
     "ename": "ValueError",
     "evalue": "too many values to unpack (expected 2)",
     "output_type": "error",
     "traceback": [
      "\u001b[0;31m---------------------------------------------------------------------------\u001b[0m",
      "\u001b[0;31mValueError\u001b[0m                                Traceback (most recent call last)",
      "\u001b[0;32m<ipython-input-5-f24c6fd5f6c8>\u001b[0m in \u001b[0;36m<module>\u001b[0;34m()\u001b[0m\n\u001b[0;32m----> 1\u001b[0;31m \u001b[0mn\u001b[0m\u001b[0;34m,\u001b[0m \u001b[0mm\u001b[0m \u001b[0;34m=\u001b[0m \u001b[0mmap\u001b[0m\u001b[0;34m(\u001b[0m\u001b[0mint\u001b[0m\u001b[0;34m,\u001b[0m \u001b[0minput\u001b[0m\u001b[0;34m(\u001b[0m\u001b[0;34m)\u001b[0m\u001b[0;34m.\u001b[0m\u001b[0msplit\u001b[0m\u001b[0;34m(\u001b[0m\u001b[0;34m)\u001b[0m\u001b[0;34m)\u001b[0m\u001b[0;34m\u001b[0m\u001b[0m\n\u001b[0m\u001b[1;32m      2\u001b[0m \u001b[0marray\u001b[0m \u001b[0;34m=\u001b[0m \u001b[0mnumpy\u001b[0m\u001b[0;34m.\u001b[0m\u001b[0marray\u001b[0m\u001b[0;34m(\u001b[0m\u001b[0;34m[\u001b[0m\u001b[0minput\u001b[0m\u001b[0;34m(\u001b[0m\u001b[0;34m)\u001b[0m\u001b[0;34m.\u001b[0m\u001b[0mstrip\u001b[0m\u001b[0;34m(\u001b[0m\u001b[0;34m)\u001b[0m\u001b[0;34m.\u001b[0m\u001b[0msplit\u001b[0m\u001b[0;34m(\u001b[0m\u001b[0;34m)\u001b[0m \u001b[0;32mfor\u001b[0m \u001b[0m_\u001b[0m \u001b[0;32min\u001b[0m \u001b[0mrange\u001b[0m\u001b[0;34m(\u001b[0m\u001b[0mn\u001b[0m\u001b[0;34m)\u001b[0m\u001b[0;34m]\u001b[0m\u001b[0;34m,\u001b[0m \u001b[0mint\u001b[0m\u001b[0;34m)\u001b[0m\u001b[0;34m\u001b[0m\u001b[0m\n\u001b[1;32m      3\u001b[0m \u001b[0mprint\u001b[0m \u001b[0;34m(\u001b[0m\u001b[0marray\u001b[0m\u001b[0;34m.\u001b[0m\u001b[0mtranspose\u001b[0m\u001b[0;34m(\u001b[0m\u001b[0;34m)\u001b[0m\u001b[0;34m)\u001b[0m\u001b[0;34m\u001b[0m\u001b[0m\n\u001b[1;32m      4\u001b[0m \u001b[0mprint\u001b[0m \u001b[0;34m(\u001b[0m\u001b[0marray\u001b[0m\u001b[0;34m.\u001b[0m\u001b[0mflatten\u001b[0m\u001b[0;34m(\u001b[0m\u001b[0;34m)\u001b[0m\u001b[0;34m)\u001b[0m\u001b[0;34m\u001b[0m\u001b[0m\n",
      "\u001b[0;31mValueError\u001b[0m: too many values to unpack (expected 2)"
     ]
    }
   ],
   "source": [
    "n, m = map(int, input().split())\n",
    "array = numpy.array([input().strip().split() for _ in range(n)], int)\n",
    "print (array.transpose())\n",
    "print (array.flatten())"
   ]
  },
  {
   "cell_type": "code",
   "execution_count": 11,
   "metadata": {},
   "outputs": [
    {
     "name": "stdout",
     "output_type": "stream",
     "text": [
      "4\n",
      "1 2 3 4\n",
      "4 3 2 1\n"
     ]
    }
   ],
   "source": [
    "import sys\n",
    "\n",
    "\n",
    "n = int(input().strip())\n",
    "arr = [arr_temp for arr_temp in input().strip().split(' ')]\n",
    "print(\" \".join(arr[::-1]))"
   ]
  },
  {
   "cell_type": "code",
   "execution_count": 12,
   "metadata": {},
   "outputs": [
    {
     "name": "stdout",
     "output_type": "stream",
     "text": [
      "{}\n",
      "{}\n"
     ]
    },
    {
     "name": "stderr",
     "output_type": "stream",
     "text": [
      "/usr/local/lib/python3.6/dist-packages/numpy/distutils/system_info.py:624: UserWarning: \n",
      "    Atlas (http://math-atlas.sourceforge.net/) libraries not found.\n",
      "    Directories to search for the libraries can be specified in the\n",
      "    numpy/distutils/site.cfg file (section [atlas]) or by setting\n",
      "    the ATLAS environment variable.\n",
      "  self.calc_info()\n",
      "/usr/local/lib/python3.6/dist-packages/numpy/distutils/system_info.py:624: UserWarning: \n",
      "    Blas (http://www.netlib.org/blas/) libraries not found.\n",
      "    Directories to search for the libraries can be specified in the\n",
      "    numpy/distutils/site.cfg file (section [blas]) or by setting\n",
      "    the BLAS environment variable.\n",
      "  self.calc_info()\n",
      "/usr/local/lib/python3.6/dist-packages/numpy/distutils/system_info.py:624: UserWarning: \n",
      "    Blas (http://www.netlib.org/blas/) sources not found.\n",
      "    Directories to search for the sources can be specified in the\n",
      "    numpy/distutils/site.cfg file (section [blas_src]) or by setting\n",
      "    the BLAS_SRC environment variable.\n",
      "  self.calc_info()\n",
      "/usr/local/lib/python3.6/dist-packages/numpy/distutils/system_info.py:624: UserWarning: \n",
      "    Lapack (http://www.netlib.org/lapack/) libraries not found.\n",
      "    Directories to search for the libraries can be specified in the\n",
      "    numpy/distutils/site.cfg file (section [lapack]) or by setting\n",
      "    the LAPACK environment variable.\n",
      "  self.calc_info()\n",
      "/usr/local/lib/python3.6/dist-packages/numpy/distutils/system_info.py:624: UserWarning: \n",
      "    Lapack (http://www.netlib.org/lapack/) sources not found.\n",
      "    Directories to search for the sources can be specified in the\n",
      "    numpy/distutils/site.cfg file (section [lapack_src]) or by setting\n",
      "    the LAPACK_SRC environment variable.\n",
      "  self.calc_info()\n"
     ]
    }
   ],
   "source": [
    "from numpy.distutils.system_info import get_info\n",
    "print(get_info('blas_opt'))\n",
    "print(get_info('lapack_opt'))"
   ]
  },
  {
   "cell_type": "code",
   "execution_count": null,
   "metadata": {},
   "outputs": [
    {
     "name": "stdout",
     "output_type": "stream",
     "text": [
      "链接组 awk (提供 /usr/bin/awk)中只有一个候选项：/usr/bin/mawk\r\n",
      "无需配置。\r\n",
      "链接组 builtins.7.gz (提供 /usr/share/man/man7/builtins.7.gz)中只有一个候选项：/usr/share/man/man7/bash-builtins.7.gz\r\n",
      "无需配置。\r\n",
      "链接组 c++ (提供 /usr/bin/c++)中只有一个候选项：/usr/bin/g++\r\n",
      "无需配置。\r\n",
      "链接组 c89 (提供 /usr/bin/c89)中只有一个候选项：/usr/bin/c89-gcc\r\n",
      "无需配置。\r\n",
      "链接组 c99 (提供 /usr/bin/c99)中只有一个候选项：/usr/bin/c99-gcc\r\n",
      "无需配置。\r\n",
      "链接组 cc (提供 /usr/bin/cc)中只有一个候选项：/usr/bin/gcc\r\n",
      "无需配置。\r\n",
      "链接组 cpp (提供 /lib/cpp)中只有一个候选项：/usr/bin/cpp\r\n",
      "无需配置。\r\n",
      "有 2 个候选项可用于替换 fakeroot (提供 /usr/bin/fakeroot)。\r\n",
      "\r\n",
      "  选择       路径                  优先级  状态\r\n",
      "------------------------------------------------------------\r\n",
      "* 0            /usr/bin/fakeroot-sysv   50        自动模式\r\n",
      "  1            /usr/bin/fakeroot-sysv   50        手动模式\r\n",
      "  2            /usr/bin/fakeroot-tcp    30        手动模式\r\n",
      "\r\n",
      "要维持当前值[*]请按<回车键>，或者键入选择的编号："
     ]
    }
   ],
   "source": [
    "!update-alternatives --all"
   ]
  },
  {
   "cell_type": "code",
   "execution_count": null,
   "metadata": {},
   "outputs": [],
   "source": []
  }
 ],
 "metadata": {
  "kernelspec": {
   "display_name": "Python 3",
   "language": "python",
   "name": "python3"
  },
  "language_info": {
   "codemirror_mode": {
    "name": "ipython",
    "version": 3
   },
   "file_extension": ".py",
   "mimetype": "text/x-python",
   "name": "python",
   "nbconvert_exporter": "python",
   "pygments_lexer": "ipython3",
   "version": "3.6.3"
  }
 },
 "nbformat": 4,
 "nbformat_minor": 1
}
