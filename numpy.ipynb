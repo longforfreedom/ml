{
 "cells": [
  {
   "cell_type": "markdown",
   "metadata": {},
   "source": [
    "\n",
    "numpy　提供ndarray(多维数组)和matrix两种数据结构以及在这两种数据结构上的一系统操作"
   ]
  },
  {
   "cell_type": "code",
   "execution_count": null,
   "metadata": {
    "collapsed": true
   },
   "outputs": [],
   "source": [
    "import numpy as np\n"
   ]
  },
  {
   "cell_type": "markdown",
   "metadata": {},
   "source": [
    "## array or matrix ?\n",
    "Use arrays.\n",
    "\n",
    "1. They are the standard vector/matrix/tensor type of numpy. Many numpy functions return arrays, not matrices.\n",
    "2. There is a clear distinction between element-wise operations and linear algebra operations.\n",
    "3. You can have standard vectors or row/column vectors if you like.\n",
    "\n",
    "The only disadvantage of using the array type is that you will have to use dot instead of * to multiply (reduce) two tensors (scalar product, matrix vector multiplication etc.).\n",
    "\n",
    "https://docs.scipy.org/doc/numpy-dev/user/numpy-for-matlab-users.html"
   ]
  },
  {
   "cell_type": "markdown",
   "metadata": {},
   "source": [
    "##  ndarray"
   ]
  },
  {
   "cell_type": "code",
   "execution_count": null,
   "metadata": {},
   "outputs": [],
   "source": [
    "# 5x5\n",
    "np.zeros((5,5))\n",
    "#5x1\n",
    "np.ones((5,1))\n",
    "\n",
    "#np\n",
    "np.zeros(5)\n",
    "\n",
    "# 随机5x5\n",
    "ar = np.random.random((5,5))\n",
    "\n",
    "#从python的list中构建\n",
    "np.array([i for i in range(10)])\n",
    "\n",
    "#起点，终点,个数\n",
    "np.linspace(1,10,20)\n",
    "#起点，终点,步长\n",
    "a2 = np.arange(1,10,1)\n",
    "\n",
    "#logspace函数和linspace类似，不过它创建等比数列\n",
    "#不过它创建等比数列，下面的例子产生1(10^0)到100(10^2)、有20个元素的等比数列:\n",
    "np.logspace(0,2,3)\n",
    "a2\n",
    "a3 = np.arange(0, 60, 10).reshape(-1, 1)\n",
    "a4 = np.arange(0, 6)\n",
    "a3+a4\n"
   ]
  },
  {
   "cell_type": "code",
   "execution_count": null,
   "metadata": {
    "collapsed": true
   },
   "outputs": [],
   "source": [
    "b1 = np.arange(0,100).reshape((b1,b1))"
   ]
  },
  {
   "cell_type": "code",
   "execution_count": null,
   "metadata": {
    "collapsed": true
   },
   "outputs": [],
   "source": [
    "print b1"
   ]
  },
  {
   "cell_type": "markdown",
   "metadata": {},
   "source": [
    " "
   ]
  },
  {
   "cell_type": "code",
   "execution_count": null,
   "metadata": {
    "collapsed": true
   },
   "outputs": [],
   "source": []
  },
  {
   "cell_type": "markdown",
   "metadata": {},
   "source": [
    "## matrix\n",
    "matrix类创建的是矩阵对象，它们的加减乘除运算缺省采用矩阵方式计算"
   ]
  },
  {
   "cell_type": "code",
   "execution_count": null,
   "metadata": {},
   "outputs": [],
   "source": [
    "m1 = np.matrix(np.random.random((10,10)))\n",
    "m1**-1 \n",
    "#np.linalg.inv也是逆矩阵，为什么搞两个\n",
    "np.linalg.inv(m1)"
   ]
  },
  {
   "cell_type": "code",
   "execution_count": null,
   "metadata": {
    "collapsed": true
   },
   "outputs": [],
   "source": []
  }
 ],
 "metadata": {
  "kernelspec": {
   "display_name": "Python 2",
   "language": "python",
   "name": "python2"
  },
  "language_info": {
   "codemirror_mode": {
    "name": "ipython",
    "version": 2
   },
   "file_extension": ".py",
   "mimetype": "text/x-python",
   "name": "python",
   "nbconvert_exporter": "python",
   "pygments_lexer": "ipython2",
   "version": "2.7.10"
  }
 },
 "nbformat": 4,
 "nbformat_minor": 1
}
