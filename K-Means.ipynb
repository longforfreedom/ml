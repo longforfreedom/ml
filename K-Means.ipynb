{
 "cells": [
  {
   "cell_type": "code",
   "execution_count": 1,
   "metadata": {},
   "outputs": [
    {
     "data": {
      "text/plain": [
       "[[<matplotlib.lines.Line2D at 0x7f292739e160>],\n",
       " [<matplotlib.lines.Line2D at 0x7f292739e5c0>],\n",
       " [<matplotlib.lines.Line2D at 0x7f292739e9b0>],\n",
       " [<matplotlib.lines.Line2D at 0x7f292739edd8>]]"
      ]
     },
     "execution_count": 1,
     "metadata": {},
     "output_type": "execute_result"
    },
    {
     "data": {
      "image/png": "[encoded data removed]",
      "text/plain": [
       "<matplotlib.figure.Figure at 0x7f2937eb8470>"
      ]
     },
     "metadata": {},
     "output_type": "display_data"
    }
   ],
   "source": [
    "import numpy as np\n",
    "%matplotlib inline\n",
    "import matplotlib.pyplot as plt\n",
    "from sklearn import linear_model\n",
    "from sklearn.naive_bayes import GaussianNB\n",
    "from sklearn.cluster import KMeans\n",
    "\n",
    "from sklearn import datasets\n",
    "#iris = datasets.load_iris()\n",
    "\n",
    "#X = np.array([[1, 2], [1, 4], [1, 0],[4, 2], [4, 4], [4, 0]])\n",
    "##生成两组随机数据，指定范围，直观展现结果\n",
    "X= np.vstack((np.random.random((100,2))+1,np.random.random((100,2))+3))\n",
    "#plt.plot(X[:,0],X[:,1],'ro')\n",
    "kmeans = KMeans(n_clusters=2, random_state=0).fit(X)\n",
    "X_r = kmeans.labels_\n",
    "\n",
    "for i,x in enumerate(X):\n",
    "    plt.plot(x[0],x[1],'go' if X_r[i] == 1 else 'ro')\n",
    "  \n",
    "#展现聚集中心\n",
    "X_c = kmeans.cluster_centers_\n",
    "plt.plot(X_c[:,0],X_c[:,1],'yo')\n",
    "\n",
    "#预测\n",
    "X_p = np.array([ [4, 4],[0.5, 1],[3, 4],[2, 1]])\n",
    "X_p_r = kmeans.predict(X_p)\n",
    "r_plot = np.column_stack((X_p,X_p_r.reshape((4,1))))\n",
    "\n",
    "#画出预测的点\n",
    "[plt.plot(i[0],i[1],'ko' if i[2] == 1 else 'co') for i in r_plot]\n",
    "#plt.plot(X_p[:,0],X_p[:,1],'go')\n"
   ]
  },
  {
   "cell_type": "code",
   "execution_count": 7,
   "metadata": {},
   "outputs": [
    {
     "data": {
      "text/plain": [
       "(30, 40, 3)"
      ]
     },
     "execution_count": 7,
     "metadata": {},
     "output_type": "execute_result"
    }
   ],
   "source": [
    "%matplotlib inline\n",
    "import matplotlib.pyplot as plt\n",
    "\n",
    "im1 = plt.imread(\"data/captcha/train/584.jpg\")\n",
    "im2 = plt.imread(\"data/captcha/train/581.jpg\")\n",
    "\n",
    "#im1.shape #(y轴像素点数， x轴像素点数，图像通道数)\n",
    "with open(\"data/captcha/test_label.txt\") as labelfile:\n",
    "    for i in labelfile:\n",
    "        "
   ]
  },
  {
   "cell_type": "code",
   "execution_count": null,
   "metadata": {},
   "outputs": [],
   "source": []
  }
 ],
 "metadata": {
  "kernelspec": {
   "display_name": "Python 3",
   "language": "python",
   "name": "python3"
  },
  "language_info": {
   "codemirror_mode": {
    "name": "ipython",
    "version": 3
   },
   "file_extension": ".py",
   "mimetype": "text/x-python",
   "name": "python",
   "nbconvert_exporter": "python",
   "pygments_lexer": "ipython3",
   "version": "3.6.3"
  }
 },
 "nbformat": 4,
 "nbformat_minor": 2
}
