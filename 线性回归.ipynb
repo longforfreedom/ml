{
 "cells": [
  {
   "cell_type": "code",
   "execution_count": 2,
   "metadata": {
    "collapsed": false
   },
   "outputs": [],
   "source": [
    "# -*- coding: utf-8 -*-  \n",
    "%matplotlib inline\n",
    "#import matplotlib.pyplot as plt\n",
    "import numpy as np\n",
    "import matplotlib.pyplot as plt\n",
    "class LinearRegression:\n",
    "    def __init__(self):\n",
    "        pass\n",
    "    #正规方程(Normal Equation)算法实现    \n",
    "    def train(self,X_n,Y):\n",
    "        n_samples,n_features = X_n.shape\n",
    "        #加一列:X0=1\n",
    "        X=np.column_stack((np.ones(n_samples),X_n))\n",
    "        self.theta = np.linalg.inv((X.T).dot(X)).dot(X.T).dot(Y)\n",
    "\n",
    "    #梯度下降\n",
    "    def train_gb(self,X_n,Y,theta,alpha,num_inters):\n",
    "        n_samples,n_features = X_n.shape\n",
    "        #加一列:X0=1\n",
    "        X=np.column_stack((np.ones(n_samples),X_n))\n",
    "        js = np.zeros((num_inters,1))\n",
    "        self.theta = theta\n",
    "        for i in xrange(num_inters):\n",
    "            js[i] = self.cost_function(X,Y,self.theta)\n",
    "            self.theta = self.theta - alpha/n_samples * (X.T).dot((X.dot(self.theta) -Y))\n",
    "        return (self.theta,js)\n",
    "\n",
    "    ##代价函数\n",
    "    def cost_function(self,X,Y,theta):\n",
    "        n_samples,n_features = X.shape\n",
    "        #X is need M*(n+1)\n",
    "        j =  np.sum((X.dot(theta) - Y)**2)/(2*n_samples)\n",
    "        return j\n",
    "        \n",
    "\n",
    "        \n",
    "    def predict(self,X_n):\n",
    "        n_samples,n_features = X_n.shape\n",
    "        #加一列:X0=1\n",
    "        X=np.column_stack((np.ones(n_samples),X_n))\n",
    "        return X.dot(self.theta) \n",
    "\n"
   ]
  },
  {
   "cell_type": "code",
   "execution_count": 3,
   "metadata": {
    "collapsed": false
   },
   "outputs": [
    {
     "name": "stdout",
     "output_type": "stream",
     "text": [
      "(array([[ 0.04631429],\n",
      "       [ 1.99764287]]), array([[  1.42583333e+02],\n",
      "       [  1.41769196e+02],\n",
      "       [  1.40959707e+02],\n",
      "       ..., \n",
      "       [  2.81765376e-04],\n",
      "       [  2.81763900e-04],\n",
      "       [  2.81762423e-04]]))\n"
     ]
    },
    {
     "data": {
      "image/png": "[encoded data removed]",
      "text/plain": [
       "<matplotlib.figure.Figure at 0x370b790>"
      ]
     },
     "metadata": {},
     "output_type": "display_data"
    }
   ],
   "source": [
    "    import matplotlib.pyplot as plt\n",
    "    X_n=np.arange(100).reshape(100,1)\n",
    "    Y= X_n[:30]*2\n",
    "    lr = LinearRegression()\n",
    "    detail = lr.train_gb(X_n[:30],X_n[:30]*2,np.array([[0],[1]]),0.00001,35000)\n",
    "    plt.figure(figsize=(10,10))\n",
    "   \n",
    "    plt.plot(X_n[:30],Y,'yo')\n",
    "    plt.plot(X_n[:30],lr.predict(X_n[:30]))\n",
    "    print detail\n",
    "    \n",
    "    \n",
    "    \n",
    "    #from sklearn import linear_model\n",
    "    #sklr = linear_model.LinearRegression()\n",
    "    #t = sklr.fit(X_n[:30],X_n[:30]*2)\n",
    "    #print t.coef_\n",
    "    #print t.intercept_\n",
    "    #plt.plot(X_n[:30],sklr.predict(X_n[:30]),'y')\n",
    "    "
   ]
  },
  {
   "cell_type": "code",
   "execution_count": null,
   "metadata": {
    "collapsed": true
   },
   "outputs": [],
   "source": []
  }
 ],
 "metadata": {
  "kernelspec": {
   "display_name": "Python 2",
   "language": "python",
   "name": "python2"
  },
  "language_info": {
   "codemirror_mode": {
    "name": "ipython",
    "version": 2
   },
   "file_extension": ".py",
   "mimetype": "text/x-python",
   "name": "python",
   "nbconvert_exporter": "python",
   "pygments_lexer": "ipython2",
   "version": "2.7.5"
  }
 },
 "nbformat": 4,
 "nbformat_minor": 0
}
